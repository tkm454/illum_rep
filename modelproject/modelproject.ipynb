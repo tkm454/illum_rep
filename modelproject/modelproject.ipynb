{
 "cells": [
  {
   "attachments": {},
   "cell_type": "markdown",
   "metadata": {},
   "source": [
    "# The dynamic Malthusian macro model and a few extensions"
   ]
  },
  {
   "attachments": {},
   "cell_type": "markdown",
   "metadata": {},
   "source": [
    "## 0. <a id='toc0_'></a>[Preamble](#toc0_)"
   ]
  },
  {
   "attachments": {},
   "cell_type": "markdown",
   "metadata": {},
   "source": [
    "This model analysis project considers a simple dynamic Malthusian model. For the basic model setup we rely on the lecture note of Carl-Johan Dalgaard (2014), which provides a description on the simple dynamic Malthusian model based on Ashraf and Galor (2011). "
   ]
  },
  {
   "attachments": {},
   "cell_type": "markdown",
   "metadata": {},
   "source": [
    "**Imports and set magics:**\n",
    "\n"
   ]
  },
  {
   "cell_type": "code",
   "execution_count": 13,
   "metadata": {},
   "outputs": [
    {
     "name": "stdout",
     "output_type": "stream",
     "text": [
      "The autoreload extension is already loaded. To reload it, use:\n",
      "  %reload_ext autoreload\n"
     ]
    }
   ],
   "source": [
    "# importing relevant modules \n",
    "import numpy as np\n",
    "from scipy import optimize\n",
    "import math\n",
    "import sympy as sm\n",
    "import matplotlib.pyplot as plt\n",
    "import ipywidgets as widgets\n",
    "\n",
    "\n",
    "# autoreload modules when code is run\n",
    "%load_ext autoreload\n",
    "%autoreload 2\n",
    "\n",
    "# import pyfile with model solver\n",
    "from modelproject import MalthusModelClass"
   ]
  },
  {
   "attachments": {},
   "cell_type": "markdown",
   "metadata": {},
   "source": [
    "## 1. <a id='toc1_'></a>[Model description](#toc0_)\n",
    "\n",
    "**Time:** Discrete and indexed by $t\\in\\{0,1,\\dots\\}$.\n",
    "\n",
    "**Production:** Production is described by a Cobb-Douglas production function that assumes that labor i subject to diminishing returns in production.\n",
    "\n",
    "$$Y_t = (AX)^\\alpha L_t^{1-\\alpha}, \\ \\ \\ 0<\\alpha<1\\tag{1}$$\n",
    "\n",
    "where \n",
    "* $t$ denotes time \n",
    "* $Y_t$ is output\n",
    "* $A$ is the constant level of technology\n",
    "* $L_t$ is labor input\n",
    "* $X$ is a fixed production factor (land)\n",
    "\n",
    "For now we ignore that A could be growing: technological change is viewed merely as a series og discrete shocks.\n",
    "\n",
    "Note that we can then write output per worker as \n",
    "\n",
    "$$y_t = (AX/L_t)^\\alpha\\tag{2}$$\n",
    "\n",
    "The second key assumption is that the birth rate (i.e. births per capita) rises with per capita income. We can think of $\\eta$ as being bounded below one, such that each parent in the ecnonomy uses a fixed fraction, $\\eta$ of their income to rear children. Implicitly $\\eta$ captures preferences for family size.\n",
    "\n",
    "$$n_t=\\eta y_t, \\ \\ \\ 0<\\eta<1\\tag{3}$$\n",
    "\n",
    "We assume no unemployment and the labor force evolves accoring to the transition equation\n",
    "\n",
    "$$L_{t+1} = n_t L_t + (1-\\mu) L_t, \\ \\ L_0 \\ \\text{given} \\tag{4}$$  \n",
    "\n",
    "Assuming people work until they die, we can interpret $\\mu$ as reflecting mortality.\n",
    "\n",
    "**Microfoundations of fertility**:\n",
    "\n",
    "For simplicity assume that all agents receive the average income $y_t$. The budget constraint is then\n",
    "\n",
    "$$c_t + \\delta n_t = y_t(1-\\tau) \\tag{5}$$ \n",
    "\n",
    "where $c_t$ is consumpion an $\\lambda$ is the relative price of children.\n",
    "\n",
    "The utility function is \n",
    "\n",
    "$$u_t =\\beta \\mathrm{log}(c_t) + (1-\\beta) \\mathrm{log}(n_t) \\tag{6}$$\n",
    "\n",
    "By substitution of the budget constraint, the agents solves the following problem in when choosing between consumption of goods and expenses children.\n",
    "\n",
    "$$\\max_{n} u_t = \\beta[y_t (1-\\tau) -\\delta n_t] + (1-\\beta) \\mathrm{log} (n_t) \\tag{7}$$"
   ]
  },
  {
   "attachments": {},
   "cell_type": "markdown",
   "metadata": {},
   "source": [
    "## 2. <a id='toc2_'></a>[Solve household problem](#toc0_)"
   ]
  },
  {
   "attachments": {},
   "cell_type": "markdown",
   "metadata": {},
   "source": [
    "We can start by solving the model numerically for given income, $y=100$:"
   ]
  },
  {
   "cell_type": "code",
   "execution_count": 65,
   "metadata": {},
   "outputs": [
    {
     "name": "stdout",
     "output_type": "stream",
     "text": [
      "Optimal consumption: 49.99\n",
      "Optimal number of off spring: 16.67\n"
     ]
    }
   ],
   "source": [
    "model = MalthusModelClass() # call class\n",
    "model.solve() # solving model\n",
    "print(f\"Optimal consumption: {model.c:.2f}\")\n",
    "print(f\"Optimal number of off spring: {model.n:.2f}\")"
   ]
  },
  {
   "attachments": {},
   "cell_type": "markdown",
   "metadata": {},
   "source": [
    "We can also solve the model analytically the household problem analytically"
   ]
  },
  {
   "cell_type": "code",
   "execution_count": 70,
   "metadata": {},
   "outputs": [
    {
     "data": {
      "text/latex": [
       "$\\displaystyle \\beta \\log{\\left(- \\delta n + y \\left(1 - \\tau\\right) \\right)} + \\left(1 - \\beta\\right) \\log{\\left(n \\right)}$"
      ],
      "text/plain": [
       "beta*log(-delta*n + y*(1 - tau)) + (1 - beta)*log(n)"
      ]
     },
     "metadata": {},
     "output_type": "display_data"
    }
   ],
   "source": [
    "# a. variables\n",
    "u = sm.symbols('u')\n",
    "y = sm.symbols('y')\n",
    "c = sm.symbols('c')\n",
    "n = sm.symbols('n')\n",
    "\n",
    "# b. parameters\n",
    "beta = sm.symbols('beta')\n",
    "delta = sm.symbols('delta')\n",
    "tau = sm.symbols('tau')\n",
    "\n",
    "# c. utility function\n",
    "u = beta*sm.ln(y*(1-tau)-delta*n)+(1-beta)*sm.log(n)\n",
    "display(u)\n"
   ]
  },
  {
   "cell_type": "code",
   "execution_count": 69,
   "metadata": {},
   "outputs": [
    {
     "data": {
      "text/latex": [
       "$\\displaystyle - \\frac{\\beta \\delta}{- \\delta n + y \\left(1 - \\tau\\right)} + \\frac{1 - \\beta}{n}$"
      ],
      "text/plain": [
       "-beta*delta/(-delta*n + y*(1 - tau)) + (1 - beta)/n"
      ]
     },
     "metadata": {},
     "output_type": "display_data"
    }
   ],
   "source": [
    "# d. differentiate wrt. to n \n",
    "du_dn = u.diff(n)\n",
    "display(du_dn)"
   ]
  },
  {
   "cell_type": "code",
   "execution_count": 76,
   "metadata": {},
   "outputs": [
    {
     "data": {
      "text/latex": [
       "$\\displaystyle \\frac{y \\left(\\beta \\tau - \\beta - \\tau + 1\\right)}{\\delta}$"
      ],
      "text/plain": [
       "y*(beta*tau - beta - tau + 1)/delta"
      ]
     },
     "execution_count": 76,
     "metadata": {},
     "output_type": "execute_result"
    }
   ],
   "source": [
    "# e. \n",
    "sol = sm.solve(sm.Eq(du_dn,0), n)\n",
    "sol[0]\n"
   ]
  },
  {
   "attachments": {},
   "cell_type": "markdown",
   "metadata": {},
   "source": [
    "In the following parts we will do derivations using sympy but state the equilibrium relations."
   ]
  },
  {
   "attachments": {},
   "cell_type": "markdown",
   "metadata": {},
   "source": [
    "## 3. <a id='toc2_'></a>[Simulating the model](#toc0_)"
   ]
  }
 ],
 "metadata": {
  "kernelspec": {
   "display_name": "base",
   "language": "python",
   "name": "python3"
  },
  "language_info": {
   "codemirror_mode": {
    "name": "ipython",
    "version": 3
   },
   "file_extension": ".py",
   "mimetype": "text/x-python",
   "name": "python",
   "nbconvert_exporter": "python",
   "pygments_lexer": "ipython3",
   "version": "3.9.16"
  },
  "orig_nbformat": 4
 },
 "nbformat": 4,
 "nbformat_minor": 2
}
