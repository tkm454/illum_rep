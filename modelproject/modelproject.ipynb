{
 "cells": [
  {
   "attachments": {},
   "cell_type": "markdown",
   "metadata": {},
   "source": [
    "# The dynamic Malthusian macro model and a few extensions"
   ]
  },
  {
   "attachments": {},
   "cell_type": "markdown",
   "metadata": {},
   "source": [
    "## 0. <a id='toc0_'></a>[Preamble](#toc0_)"
   ]
  },
  {
   "attachments": {},
   "cell_type": "markdown",
   "metadata": {},
   "source": [
    "This model analysis project considers a simple dynamic Malthusian model. For the basic model setup we rely on the lecture note of Carl-Johan Dalgaard (2014), which provides a description on the simple dynamic Malthusian model based on Ashraf and Galor (2011). "
   ]
  },
  {
   "attachments": {},
   "cell_type": "markdown",
   "metadata": {},
   "source": [
    "**Imports and set magics:**\n",
    "\n"
   ]
  },
  {
   "cell_type": "code",
   "execution_count": 4,
   "metadata": {},
   "outputs": [],
   "source": [
    "# importing relevant modules \n",
    "import numpy as np\n",
    "from scipy import optimize\n",
    "import math\n",
    "import sympy as sm\n",
    "import matplotlib.pyplot as plt\n",
    "import ipywidgets as widgets\n",
    "from ipywidgets import interact, interactive, fixed, interact_manual\n",
    "\n",
    "\n",
    "# autoreload modules when code is run\n",
    "%load_ext autoreload\n",
    "%autoreload 2\n",
    "\n",
    "# import pyfile with model solver\n",
    "from modelproject import MalthusModelClass"
   ]
  },
  {
   "attachments": {},
   "cell_type": "markdown",
   "metadata": {},
   "source": [
    "## 1. <a id='toc1_'></a>[Model description](#toc0_)\n",
    "\n",
    "**Time:** Discrete and indexed by $t\\in\\{0,1,\\dots\\}$.\n",
    "\n",
    "**Production:** Production is described by a Cobb-Douglas production function that assumes that labor i subject to diminishing returns in production.\n",
    "\n",
    "$$Y_t = (AX)^\\alpha L_t^{1-\\alpha}, \\ \\ \\ 0<\\alpha<1\\tag{1}$$\n",
    "\n",
    "where \n",
    "* $t$ denotes time \n",
    "* $Y_t$ is output\n",
    "* $A$ is the constant level of technology\n",
    "* $L_t$ is labor input\n",
    "* $X$ is a fixed production factor (land)\n",
    "\n",
    "For now we ignore that A could be growing: technological change is viewed merely as a series og discrete shocks.\n",
    "\n",
    "Note that we can then write output per worker as \n",
    "\n",
    "$$y_t = (AX/L_t)^\\alpha\\tag{2}$$\n",
    "\n",
    "The second key assumption is that the birth rate (i.e. births per capita) rises with per capita income. We can think of $\\eta$ as being bounded below one, such that each parent in the ecnonomy uses a fixed fraction, $\\eta$ of their income to rear children. Implicitly $\\eta$ captures preferences for family size.\n",
    "\n",
    "$$n_t=\\eta y_t, \\ \\ \\ 0<\\eta<1\\tag{3}$$\n",
    "\n",
    "We assume no unemployment and the labor force evolves accoring to the transition equation\n",
    "\n",
    "$$L_{t+1} = n_t L_t + (1-\\mu) L_t, \\ \\ L_0 \\ \\text{given} \\tag{4}$$  \n",
    "\n",
    "Assuming people work until they die, we can interpret $\\mu$ as reflecting mortality.\n",
    "\n",
    "**Microfoundations of fertility**:\n",
    "\n",
    "For simplicity assume that all agents receive the average income $y_t$. The budget constraint is then\n",
    "\n",
    "$$c_t + \\delta n_t = y_t(1-\\tau) \\tag{5}$$ \n",
    "\n",
    "where $c_t$ is consumpion an $\\lambda$ is the relative price of children.\n",
    "\n",
    "The utility function is \n",
    "\n",
    "$$u_t =\\beta \\mathrm{log}(c_t) + (1-\\beta) \\mathrm{log}(n_t) \\tag{6}$$\n",
    "\n",
    "By substitution of the budget constraint, the agents solves the following problem in when choosing between consumption of goods and expenses children.\n",
    "\n",
    "$$\\max_{n} u_t = \\beta[y_t (1-\\tau) -\\delta n_t] + (1-\\beta) \\mathrm{log} (n_t) \\tag{7}$$"
   ]
  },
  {
   "attachments": {},
   "cell_type": "markdown",
   "metadata": {},
   "source": [
    "## 2. <a id='toc2_'></a>[Solve household problem](#toc0_)"
   ]
  },
  {
   "attachments": {},
   "cell_type": "markdown",
   "metadata": {},
   "source": [
    "We can start by solving the model numerically for given income, $y=100$:"
   ]
  },
  {
   "cell_type": "code",
   "execution_count": 2,
   "metadata": {},
   "outputs": [
    {
     "name": "stdout",
     "output_type": "stream",
     "text": [
      "Optimal consumption: 49.99\n",
      "Optimal number of off spring: 16.67\n"
     ]
    }
   ],
   "source": [
    "model = MalthusModelClass() # call class\n",
    "model.solve() # solving model\n",
    "print(f\"Optimal consumption: {model.c:.2f}\")\n",
    "print(f\"Optimal number of off spring: {model.n:.2f}\")"
   ]
  },
  {
   "attachments": {},
   "cell_type": "markdown",
   "metadata": {},
   "source": [
    "We can also solve the model analytically the household problem analytically"
   ]
  },
  {
   "cell_type": "code",
   "execution_count": 3,
   "metadata": {},
   "outputs": [
    {
     "data": {
      "text/latex": [
       "$\\displaystyle \\beta \\log{\\left(- \\delta n + y \\left(1 - \\tau\\right) \\right)} + \\left(1 - \\beta\\right) \\log{\\left(n \\right)}$"
      ],
      "text/plain": [
       "beta*log(-delta*n + y*(1 - tau)) + (1 - beta)*log(n)"
      ]
     },
     "execution_count": 3,
     "metadata": {},
     "output_type": "execute_result"
    }
   ],
   "source": [
    "# a. variables\n",
    "u = sm.symbols('u')\n",
    "y = sm.symbols('y')\n",
    "c = sm.symbols('c')\n",
    "n = sm.symbols('n')\n",
    "\n",
    "# b. parameters\n",
    "beta = sm.symbols('beta')\n",
    "delta = sm.symbols('delta')\n",
    "tau = sm.symbols('tau')\n",
    "\n",
    "# c. utility function\n",
    "u = beta*sm.ln(y*(1-tau)-delta*n)+(1-beta)*sm.log(n)\n",
    "u\n"
   ]
  },
  {
   "cell_type": "code",
   "execution_count": 4,
   "metadata": {},
   "outputs": [
    {
     "data": {
      "text/latex": [
       "$\\displaystyle - \\frac{\\beta \\delta}{- \\delta n + y \\left(1 - \\tau\\right)} + \\frac{1 - \\beta}{n}$"
      ],
      "text/plain": [
       "-beta*delta/(-delta*n + y*(1 - tau)) + (1 - beta)/n"
      ]
     },
     "execution_count": 4,
     "metadata": {},
     "output_type": "execute_result"
    }
   ],
   "source": [
    "# d. differentiate wrt. to n \n",
    "du_dn = u.diff(n)\n",
    "du_dn"
   ]
  },
  {
   "cell_type": "code",
   "execution_count": 5,
   "metadata": {},
   "outputs": [
    {
     "data": {
      "text/latex": [
       "$\\displaystyle \\frac{y \\left(\\beta \\tau - \\beta - \\tau + 1\\right)}{\\delta}$"
      ],
      "text/plain": [
       "y*(beta*tau - beta - tau + 1)/delta"
      ]
     },
     "execution_count": 5,
     "metadata": {},
     "output_type": "execute_result"
    }
   ],
   "source": [
    "# e. \n",
    "sol = sm.solve(sm.Eq(du_dn,0), n)\n",
    "sol[0]\n"
   ]
  },
  {
   "attachments": {},
   "cell_type": "markdown",
   "metadata": {},
   "source": [
    "In the following parts we will do derivations using Sympy but state the equilibrium relations."
   ]
  },
  {
   "attachments": {},
   "cell_type": "markdown",
   "metadata": {},
   "source": [
    "## 3. <a id='toc2_'></a>[Steady state](#toc0_)"
   ]
  },
  {
   "attachments": {},
   "cell_type": "markdown",
   "metadata": {},
   "source": [
    "**Population**:\n",
    "\n",
    "Analytically, the steady state level of $L$ is given by\n",
    "\n",
    "$$\n",
    "L^\\star = \\eta(L^\\star)^{1-\\alpha}(AX)^\\alpha+(1-\\mu)L^\\star \n",
    "\n",
    "\\Rightarrow L^\\star = \\left(\\frac{\\eta}{\\mu}\\right)^{1-\\alpha}AX\n",
    "$$\n",
    "\n",
    "where $L_{t+1}=L_t=L^\\star$. \n",
    "\n",
    "For the Malthus model we are also interested in the population density\n",
    "\n",
    "$$L^\\star/X$$ \n",
    "\n",
    "which rises with greater levels of technology $A$, more ressources for child rearing $\\eta$ or if mortality $\\mu$ declines. "
   ]
  },
  {
   "cell_type": "code",
   "execution_count": 6,
   "metadata": {},
   "outputs": [
    {
     "name": "stdout",
     "output_type": "stream",
     "text": [
      "Steady state population is: 608.220\n",
      "Population density is: 60.822\n"
     ]
    }
   ],
   "source": [
    "# a. call rootfinder using the Brent-Method from model class\n",
    "print(f'Steady state population is: {model.find_ss_l():.3f}')\n",
    "\n",
    "# b. calculate population density\n",
    "print(f'Population density is: {model.find_ss_l()/model.par.X:.3f}')\n"
   ]
  },
  {
   "attachments": {},
   "cell_type": "markdown",
   "metadata": {},
   "source": [
    "**Income**:\n",
    "\n",
    "By substituting $L_t, L_{t+1}$ and (3) into (4) we get that income per capita evovles according to \n",
    "\n",
    "$$ y_{t+1} = \\eta^{-\\alpha} y_t^{1-\\alpha}+(1-\\mu)^{-\\alpha} y_t $$\n",
    "\n",
    "And in steady state\n",
    "\n",
    "$$y_{t+1}=y_t=y^\\star=\\frac{\\mu}{\\eta}$$"
   ]
  },
  {
   "cell_type": "code",
   "execution_count": 7,
   "metadata": {},
   "outputs": [
    {
     "name": "stdout",
     "output_type": "stream",
     "text": [
      "Steady state income per capita is: 15.000\n"
     ]
    }
   ],
   "source": [
    "# a. call rootfinder using the Brent-Method from model class\n",
    "print(f'Steady state income per capita is: {model.find_ss_y():.3f}')"
   ]
  },
  {
   "attachments": {},
   "cell_type": "markdown",
   "metadata": {},
   "source": [
    "\n",
    "\n",
    "\n",
    "\n",
    "\n",
    "\n",
    "In finding the steady state above we used **Brent-Method**, which we will shortly sketch here. Specifically from SciPy we use the **brentq** method. It is a root-finding algorithm that combines root bracketing, bisection and inverse quadratic interpolation.\n",
    "\n",
    "Our goal is to find the zero of the function $f$ on the sign changing interval $[a,b]$. $f(a)$ and $f(b)$ must have opposite signs. \n",
    "\n",
    "1. You start from an interval $[a,b]$ that must contain the root. \n",
    "2. Evaluate function at the endpoints of the interval. \n",
    "3. Based on the sign of the function values, choose either bisection or the secant method to find an approximation of the root. \n",
    "4. Update the bracket $[a,b]$\n",
    "5. If the algorithm reaches a max iter number or fails to converge, raise an error.\n",
    "\n",
    "When the secand method fails to converge, it switches switch to bisection. The secant method is used when inverse quadratic interpolation does not converge. The inverse quadratic interpolation involves fitting a quadratic curve from the 3 function evaluations above. the quadratic is then used to make a new root approxmimation.\n",
    "\n",
    "The Brent-Method is considered one of the best root-finding algorithms."
   ]
  },
  {
   "attachments": {},
   "cell_type": "markdown",
   "metadata": {},
   "source": [
    "Input: A function f(x) to find the root of, and an initial bracket [a, b] containing the root.\n",
    "\n",
    "Output: An approximation of the root.\n",
    "\n",
    "1. Set f(a) and f(b) to the values of the function at the endpoints of the bracket.\n",
    "\n",
    "2. If f(a) and f(b) have the same sign, then the root is not contained within the bracket and the algorithm terminates.\n",
    "\n",
    "3. Set c = a and fc = f(a).\n",
    "\n",
    "4. While the stopping criterion is not met:\n",
    "\n",
    "a. If f(b) and fc have opposite signs, perform the quadratic interpolation step to find the next guess for the root, x. Otherwise, perform the bisection step to find the midpoint of the bracket, x.\n",
    "\n",
    "b. If |x-b| >= |b-c|/2, or if |x-b| >= |c-d|/2, then skip the interpolation and perform bisection instead.\n",
    "\n",
    "c. Evaluate f(x) and update the bracket [a,b] and the points c, d as follows:\n",
    "\n",
    "i. If f(x) and f(b) have opposite signs, set a = b and b = x.\n",
    "\n",
    "ii. If f(x) and fc have opposite signs, set d = c and c = x.\n",
    "\n",
    "iii. If f(x) and fc have the same sign, set the bracket [a,b] to [c,x] or [x,d] depending on which interval contains the root.\n",
    "\n",
    "d. If the stopping criterion is met (i.e., if |b-a| is smaller than a tolerance level), then return the current estimate of the root, b.\n",
    "\n",
    "5. If the algorithm reaches the maximum number of iterations without converging, raise an error."
   ]
  },
  {
   "attachments": {},
   "cell_type": "markdown",
   "metadata": {},
   "source": [
    "## 4. <a id='toc4_'></a>[Simulating the baseline model](#toc0_)"
   ]
  },
  {
   "attachments": {},
   "cell_type": "markdown",
   "metadata": {},
   "source": [
    "In simulating the population, we use the derived optimal number of off spring from 2. to insert in (4). We then get\n",
    "\n",
    "$$L_{t+1} = \\left(\\frac{1-\\beta}{\\delta}\\right) y_t L_t + (1-\\mu) L_t \\Leftrightarrow $$  \n",
    "\n",
    "$$L_{t+1} = \\left(\\frac{1-\\beta}{\\delta}\\right)(AX)^\\alpha L_t^{1-\\alpha} + (1-\\mu) L_t $$  \n"
   ]
  },
  {
   "cell_type": "code",
   "execution_count": 14,
   "metadata": {},
   "outputs": [],
   "source": [
    "model = MalthusModelClass()"
   ]
  },
  {
   "cell_type": "code",
   "execution_count": 19,
   "metadata": {},
   "outputs": [
    {
     "ename": "TypeError",
     "evalue": "'module' object is not callable",
     "output_type": "error",
     "traceback": [
      "\u001b[1;31m---------------------------------------------------------------------------\u001b[0m",
      "\u001b[1;31mTypeError\u001b[0m                                 Traceback (most recent call last)",
      "\u001b[1;32m~\\AppData\\Local\\Temp\\ipykernel_21572\\3100140694.py\u001b[0m in \u001b[0;36m<module>\u001b[1;34m\u001b[0m\n\u001b[1;32m----> 1\u001b[1;33m \u001b[0mmodel\u001b[0m\u001b[1;33m.\u001b[0m\u001b[0msimulate_malthus_l\u001b[0m\u001b[1;33m(\u001b[0m\u001b[1;36m100\u001b[0m\u001b[1;33m)\u001b[0m\u001b[1;33m\u001b[0m\u001b[1;33m\u001b[0m\u001b[0m\n\u001b[0m",
      "\u001b[1;32mc:\\Users\\Illum\\Dropbox\\Polit 6. semester\\Introduction to programming and numerical analysis\\projects-2023-teamssb\\modelproject\\modelproject.py\u001b[0m in \u001b[0;36msimulate_malthus_l\u001b[1;34m(self, T)\u001b[0m\n\u001b[0;32m     82\u001b[0m \u001b[1;33m\u001b[0m\u001b[0m\n\u001b[0;32m     83\u001b[0m         \u001b[1;31m# plot\u001b[0m\u001b[1;33m\u001b[0m\u001b[1;33m\u001b[0m\u001b[0m\n\u001b[1;32m---> 84\u001b[1;33m         \u001b[0mplt\u001b[0m\u001b[1;33m.\u001b[0m\u001b[0mfigure\u001b[0m\u001b[1;33m(\u001b[0m\u001b[0mfigsize\u001b[0m\u001b[1;33m=\u001b[0m\u001b[1;33m(\u001b[0m\u001b[1;36m5\u001b[0m\u001b[1;33m,\u001b[0m\u001b[1;36m5\u001b[0m\u001b[1;33m)\u001b[0m\u001b[1;33m)\u001b[0m\u001b[1;33m\u001b[0m\u001b[1;33m\u001b[0m\u001b[0m\n\u001b[0m\u001b[0;32m     85\u001b[0m         \u001b[0mplt\u001b[0m\u001b[1;33m.\u001b[0m\u001b[0mplot\u001b[0m\u001b[1;33m(\u001b[0m\u001b[0ms_values\u001b[0m\u001b[1;33m[\u001b[0m\u001b[1;33m:\u001b[0m\u001b[0mT\u001b[0m\u001b[1;33m]\u001b[0m\u001b[1;33m,\u001b[0m \u001b[0ml_values\u001b[0m\u001b[1;33m[\u001b[0m\u001b[1;33m:\u001b[0m\u001b[0mT\u001b[0m\u001b[1;33m]\u001b[0m\u001b[1;33m,\u001b[0m \u001b[0mlabel\u001b[0m\u001b[1;33m=\u001b[0m\u001b[1;34mr'$L_{t+1}=\\frac{\\gamma}{\\rho}(AX)^\\alpha L_t^{1-\\alpha}$'\u001b[0m\u001b[1;33m,\u001b[0m \u001b[0mcolor\u001b[0m \u001b[1;33m=\u001b[0m \u001b[1;34m'blue'\u001b[0m\u001b[1;33m)\u001b[0m\u001b[1;33m\u001b[0m\u001b[1;33m\u001b[0m\u001b[0m\n\u001b[0;32m     86\u001b[0m         \u001b[0mplt\u001b[0m\u001b[1;33m.\u001b[0m\u001b[0mplot\u001b[0m\u001b[1;33m(\u001b[0m\u001b[0ms_values\u001b[0m\u001b[1;33m[\u001b[0m\u001b[1;33m:\u001b[0m\u001b[0mT\u001b[0m\u001b[1;33m]\u001b[0m\u001b[1;33m,\u001b[0m \u001b[0ms_values\u001b[0m\u001b[1;33m[\u001b[0m\u001b[1;33m:\u001b[0m\u001b[0mT\u001b[0m\u001b[1;33m]\u001b[0m\u001b[1;33m,\u001b[0m \u001b[0mlabel\u001b[0m\u001b[1;33m=\u001b[0m\u001b[1;34m'45 degree line'\u001b[0m\u001b[1;33m,\u001b[0m \u001b[0mcolor\u001b[0m \u001b[1;33m=\u001b[0m \u001b[1;34m'black'\u001b[0m\u001b[1;33m)\u001b[0m\u001b[1;33m\u001b[0m\u001b[1;33m\u001b[0m\u001b[0m\n",
      "\u001b[1;31mTypeError\u001b[0m: 'module' object is not callable"
     ]
    }
   ],
   "source": [
    "model.simulate_malthus_l(100)"
   ]
  }
 ],
 "metadata": {
  "kernelspec": {
   "display_name": "base",
   "language": "python",
   "name": "python3"
  },
  "language_info": {
   "codemirror_mode": {
    "name": "ipython",
    "version": 3
   },
   "file_extension": ".py",
   "mimetype": "text/x-python",
   "name": "python",
   "nbconvert_exporter": "python",
   "pygments_lexer": "ipython3",
   "version": "3.9.16"
  },
  "orig_nbformat": 4
 },
 "nbformat": 4,
 "nbformat_minor": 2
}
